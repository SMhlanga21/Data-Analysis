{
 "cells": [
  {
   "cell_type": "markdown",
   "metadata": {},
   "source": [
    "The English Premier League season is starting to take shape after 12 games. Patterns are starting to emerge about where things might end up come May. While the league table is what it is, for some time now I have been of the belief that tracking expected goals and expected goals against is the best way to track who the best performing teams in the league are. The reason I believe this is that a lot of randomness is involved in the scoring of a goal, and much less in the creation of it. To be sure, there is a lot of randomness throughout the game, including in the creation of the goal, but I believe this is more true for the scoring of the goal itself than the creation actions. A team that consistently creates goal scoring opportunities is likely to eventually consistently put those chances away, whereas a team that scores goals despite not consistently creating good opportunities is likely to regress to its actual chance creation levels during the course of a season. The same concept applies to expected goals against, a team that consistently gives up good scoring opportunities to the opposition will during the course of a season concede a lot of goals. Therefore, it is my belief that the team that achives the greatest expected goal difference(xGD) througout the season is going to have the best chance of winning the league come May. Inversely, the teams that accumulate the least xGD come may will have the greater chance of getting relegated. \n",
    "\n",
    "With this in mind, I am going to be tracking the top 5 and bottom 5 teams in xGD during the season. In this notebook I will build two charts that I will use to show the reaults. \n",
    "\n",
    "The first thing I did was import the necessary libraries. Some I had to install, but I removed the installation cells because it does not look presentable with them. Also, I may have imported some libraries that ended up not being used because I went through a few iterations of this where I built different charts that I ended up discarding in favor of simplicity and efficiency"
   ]
  },
  {
   "cell_type": "code",
   "execution_count": 210,
   "metadata": {},
   "outputs": [
    {
     "data": {
      "text/plain": [
       "True"
      ]
     },
     "execution_count": 210,
     "metadata": {},
     "output_type": "execute_result"
    }
   ],
   "source": [
    "from matplotlib import pyplot as plt\n",
    "import matplotlib as mpl\n",
    "import seaborn.objects as so\n",
    "from dotenv import load_dotenv\n",
    "from mpl_toolkits.axes_grid1.inset_locator import inset_axes\n",
    "from wordcloud import WordCloud\n",
    "import seaborn as sns\n",
    "import pandas as pd \n",
    "import altair as alt\n",
    "import boto3\n",
    "import io\n",
    "import os\n",
    "\n",
    "load_dotenv()"
   ]
  },
  {
   "cell_type": "code",
   "execution_count": 133,
   "metadata": {},
   "outputs": [],
   "source": [
    "bucket = os.getenv('AWS_BUCKET_NAME')\n",
    "access_key_id = os.getenv('AWS_ACCESS_KEY_ID')\n",
    "secret_key = os.getenv('AWS_PRIVATE_KEY')\n",
    "\n",
    "s3_client = boto3.client(\n",
    "        's3',\n",
    "        aws_access_key_id=access_key_id,\n",
    "        aws_secret_access_key=secret_key)\n",
    "\n",
    "read_response = s3_client.get_object(Bucket=bucket, Key='EPL 2024-2025 xG.csv')\n",
    "\n",
    "xG_df = pd.read_csv(io.BytesIO(read_response['Body'].read()))\n"
   ]
  },
  {
   "cell_type": "code",
   "execution_count": 134,
   "metadata": {},
   "outputs": [],
   "source": [
    "xG_df['xGD cumulative sum'] = xG_df['xGD_sum_over_gameweek']"
   ]
  },
  {
   "cell_type": "code",
   "execution_count": 187,
   "metadata": {},
   "outputs": [],
   "source": [
    "top5 = xG_df[xG_df['gameweek']==xG_df['gameweek'].max()].sort_values(by='xGD cumulative sum', ascending=False).head(5)\n",
    "\n",
    "top5_xG_teams = top5['team'].unique()\n",
    "top_5_xGD = xG_df[xG_df['team'].isin(top5_xG_teams)]\n"
   ]
  },
  {
   "cell_type": "code",
   "execution_count": 209,
   "metadata": {},
   "outputs": [],
   "source": [
    "bottom5 = xG_df[xG_df['gameweek']==xG_df['gameweek'].max()].sort_values(by='xGD cumulative sum', ascending=True).head(5)\n",
    "\n",
    "bottom5_xG_teams = bottom5['team'].unique()\n",
    "bottom_5_xGD = xG_df[xG_df['team'].isin(bottom5_xG_teams)]"
   ]
  },
  {
   "cell_type": "code",
   "execution_count": 189,
   "metadata": {},
   "outputs": [],
   "source": [
    "so.Plot.config.theme.update(mpl.rcParams)\n"
   ]
  },
  {
   "cell_type": "code",
   "execution_count": 141,
   "metadata": {},
   "outputs": [
    {
     "data": {
      "text/plain": [
       "<Figure size 1200x800 with 0 Axes>"
      ]
     },
     "execution_count": 141,
     "metadata": {},
     "output_type": "execute_result"
    },
    {
     "data": {
      "text/plain": [
       "<Figure size 1200x800 with 0 Axes>"
      ]
     },
     "metadata": {},
     "output_type": "display_data"
    }
   ],
   "source": [
    "plt.figure(figsize=(12, 8))"
   ]
  },
  {
   "cell_type": "code",
   "execution_count": null,
   "metadata": {},
   "outputs": [
    {
     "data": {
      "text/html": [
       "\n",
       "<style>\n",
       "  #altair-viz-8653476bb3df4106aea947a0382e0e7a.vega-embed {\n",
       "    width: 100%;\n",
       "    display: flex;\n",
       "  }\n",
       "\n",
       "  #altair-viz-8653476bb3df4106aea947a0382e0e7a.vega-embed details,\n",
       "  #altair-viz-8653476bb3df4106aea947a0382e0e7a.vega-embed details summary {\n",
       "    position: relative;\n",
       "  }\n",
       "</style>\n",
       "<div id=\"altair-viz-8653476bb3df4106aea947a0382e0e7a\"></div>\n",
       "<script type=\"text/javascript\">\n",
       "  var VEGA_DEBUG = (typeof VEGA_DEBUG == \"undefined\") ? {} : VEGA_DEBUG;\n",
       "  (function(spec, embedOpt){\n",
       "    let outputDiv = document.currentScript.previousElementSibling;\n",
       "    if (outputDiv.id !== \"altair-viz-8653476bb3df4106aea947a0382e0e7a\") {\n",
       "      outputDiv = document.getElementById(\"altair-viz-8653476bb3df4106aea947a0382e0e7a\");\n",
       "    }\n",
       "\n",
       "    const paths = {\n",
       "      \"vega\": \"https://cdn.jsdelivr.net/npm/vega@5?noext\",\n",
       "      \"vega-lib\": \"https://cdn.jsdelivr.net/npm/vega-lib?noext\",\n",
       "      \"vega-lite\": \"https://cdn.jsdelivr.net/npm/vega-lite@5.20.1?noext\",\n",
       "      \"vega-embed\": \"https://cdn.jsdelivr.net/npm/vega-embed@6?noext\",\n",
       "    };\n",
       "\n",
       "    function maybeLoadScript(lib, version) {\n",
       "      var key = `${lib.replace(\"-\", \"\")}_version`;\n",
       "      return (VEGA_DEBUG[key] == version) ?\n",
       "        Promise.resolve(paths[lib]) :\n",
       "        new Promise(function(resolve, reject) {\n",
       "          var s = document.createElement('script');\n",
       "          document.getElementsByTagName(\"head\")[0].appendChild(s);\n",
       "          s.async = true;\n",
       "          s.onload = () => {\n",
       "            VEGA_DEBUG[key] = version;\n",
       "            return resolve(paths[lib]);\n",
       "          };\n",
       "          s.onerror = () => reject(`Error loading script: ${paths[lib]}`);\n",
       "          s.src = paths[lib];\n",
       "        });\n",
       "    }\n",
       "\n",
       "    function showError(err) {\n",
       "      outputDiv.innerHTML = `<div class=\"error\" style=\"color:red;\">${err}</div>`;\n",
       "      throw err;\n",
       "    }\n",
       "\n",
       "    function displayChart(vegaEmbed) {\n",
       "      vegaEmbed(outputDiv, spec, embedOpt)\n",
       "        .catch(err => showError(`Javascript Error: ${err.message}<br>This usually means there's a typo in your chart specification. See the javascript console for the full traceback.`));\n",
       "    }\n",
       "\n",
       "    if(typeof define === \"function\" && define.amd) {\n",
       "      requirejs.config({paths});\n",
       "      let deps = [\"vega-embed\"];\n",
       "      require(deps, displayChart, err => showError(`Error loading script: ${err.message}`));\n",
       "    } else {\n",
       "      maybeLoadScript(\"vega\", \"5\")\n",
       "        .then(() => maybeLoadScript(\"vega-lite\", \"5.20.1\"))\n",
       "        .then(() => maybeLoadScript(\"vega-embed\", \"6\"))\n",
       "        .catch(showError)\n",
       "        .then(() => displayChart(vegaEmbed));\n",
       "    }\n",
       "  })({\"config\": {\"view\": {\"continuousWidth\": 300, \"continuousHeight\": 300}}, \"layer\": [{\"data\": {\"name\": \"data-ec19a2a8d86a5cb912c3ca1c15af29e1\"}, \"mark\": {\"type\": \"line\"}, \"encoding\": {\"color\": {\"field\": \"team\", \"legend\": {\"orient\": \"left\"}, \"type\": \"nominal\"}, \"opacity\": {\"condition\": [{\"param\": \"param_25\", \"value\": 1}], \"value\": 0.2}, \"x\": {\"field\": \"gameweek\", \"type\": \"quantitative\"}, \"y\": {\"field\": \"xGD cumulative sum\", \"type\": \"quantitative\"}}, \"name\": \"view_3\"}, {\"data\": {\"name\": \"data-cf50858d50786f7e63b6ecfcfc2b3073\"}, \"mark\": {\"type\": \"text\", \"align\": \"left\", \"dx\": 5}, \"encoding\": {\"color\": {\"field\": \"team\", \"type\": \"nominal\"}, \"text\": {\"field\": \"team\", \"type\": \"nominal\"}, \"x\": {\"field\": \"gameweek\", \"type\": \"quantitative\"}, \"y\": {\"field\": \"xGD cumulative sum\", \"type\": \"quantitative\"}}}], \"params\": [{\"name\": \"param_25\", \"select\": {\"type\": \"point\", \"fields\": [\"team\"]}, \"bind\": \"legend\", \"views\": [\"view_3\"]}], \"$schema\": \"https://vega.github.io/schema/vega-lite/v5.20.1.json\", \"datasets\": {\"data-ec19a2a8d86a5cb912c3ca1c15af29e1\": [{\"gameweek\": 1.0, \"date\": \"2024-08-17\", \"team\": \"Arsenal\", \"xGA\": 0.5, \"xG\": 1.2, \"xGD\": 0.7, \"xGD_sum_over_gameweek\": 0.7, \"xGD cumulative sum\": 0.7}, {\"gameweek\": 1.0, \"date\": \"2024-08-17\", \"team\": \"Liverpool\", \"xGA\": 0.5, \"xG\": 2.6, \"xGD\": 2.1, \"xGD_sum_over_gameweek\": 2.1, \"xGD cumulative sum\": 2.1}, {\"gameweek\": 1.0, \"date\": \"2024-08-18\", \"team\": \"Manchester City\", \"xGA\": 1.0, \"xG\": 0.8, \"xGD\": -0.1999999999999999, \"xGD_sum_over_gameweek\": -0.1999999999999999, \"xGD cumulative sum\": -0.1999999999999999}, {\"gameweek\": 1.0, \"date\": \"2024-08-18\", \"team\": \"Chelsea\", \"xGA\": 0.8, \"xG\": 1.0, \"xGD\": 0.1999999999999999, \"xGD_sum_over_gameweek\": 0.1999999999999999, \"xGD cumulative sum\": 0.1999999999999999}, {\"gameweek\": 1.0, \"date\": \"2024-08-19\", \"team\": \"Tottenham\", \"xGA\": 1.0, \"xG\": 1.2, \"xGD\": 0.1999999999999999, \"xGD_sum_over_gameweek\": 0.1999999999999999, \"xGD cumulative sum\": 0.1999999999999999}, {\"gameweek\": 2.0, \"date\": \"2024-08-24\", \"team\": \"Manchester City\", \"xGA\": 0.3, \"xG\": 3.3, \"xGD\": 3.0, \"xGD_sum_over_gameweek\": 2.8, \"xGD cumulative sum\": 2.8}, {\"gameweek\": 2.0, \"date\": \"2024-08-24\", \"team\": \"Tottenham\", \"xGA\": 1.0, \"xG\": 2.4, \"xGD\": 1.4, \"xGD_sum_over_gameweek\": 1.6, \"xGD cumulative sum\": 1.6}, {\"gameweek\": 2.0, \"date\": \"2024-08-24\", \"team\": \"Arsenal\", \"xGA\": 1.2, \"xG\": 0.9, \"xGD\": -0.2999999999999999, \"xGD_sum_over_gameweek\": 0.4, \"xGD cumulative sum\": 0.4}, {\"gameweek\": 2.0, \"date\": \"2024-08-25\", \"team\": \"Liverpool\", \"xGA\": 0.5, \"xG\": 2.5, \"xGD\": 2.0, \"xGD_sum_over_gameweek\": 4.1, \"xGD cumulative sum\": 4.1}, {\"gameweek\": 2.0, \"date\": \"2024-08-25\", \"team\": \"Chelsea\", \"xGA\": 1.9, \"xG\": 1.6, \"xGD\": -0.2999999999999998, \"xGD_sum_over_gameweek\": -0.0999999999999998, \"xGD cumulative sum\": -0.0999999999999998}, {\"gameweek\": 3.0, \"date\": \"2024-08-31\", \"team\": \"Manchester City\", \"xGA\": 0.7, \"xG\": 3.0, \"xGD\": 2.3, \"xGD_sum_over_gameweek\": 5.1, \"xGD cumulative sum\": 5.1}, {\"gameweek\": 3.0, \"date\": \"2024-08-31\", \"team\": \"Arsenal\", \"xGA\": 1.7, \"xG\": 2.1, \"xGD\": 0.4000000000000001, \"xGD_sum_over_gameweek\": 0.8000000000000002, \"xGD cumulative sum\": 0.8000000000000002}, {\"gameweek\": 3.0, \"date\": \"2024-09-01\", \"team\": \"Tottenham\", \"xGA\": 1.8, \"xG\": 1.2, \"xGD\": -0.6000000000000001, \"xGD_sum_over_gameweek\": 0.9999999999999998, \"xGD cumulative sum\": 0.9999999999999998}, {\"gameweek\": 3.0, \"date\": \"2024-09-01\", \"team\": \"Liverpool\", \"xGA\": 1.4, \"xG\": 1.8, \"xGD\": 0.4000000000000001, \"xGD_sum_over_gameweek\": 4.5, \"xGD cumulative sum\": 4.5}, {\"gameweek\": 3.0, \"date\": \"2024-09-01\", \"team\": \"Chelsea\", \"xGA\": 0.5, \"xG\": 2.4, \"xGD\": 1.9, \"xGD_sum_over_gameweek\": 1.8, \"xGD cumulative sum\": 1.8}, {\"gameweek\": 4.0, \"date\": \"2024-09-14\", \"team\": \"Liverpool\", \"xGA\": 0.4, \"xG\": 0.9, \"xGD\": 0.5, \"xGD_sum_over_gameweek\": 5.0, \"xGD cumulative sum\": 5.0}, {\"gameweek\": 4.0, \"date\": \"2024-09-14\", \"team\": \"Manchester City\", \"xGA\": 1.0, \"xG\": 2.1, \"xGD\": 1.1, \"xGD_sum_over_gameweek\": 6.199999999999999, \"xGD cumulative sum\": 6.199999999999999}, {\"gameweek\": 4.0, \"date\": \"2024-09-14\", \"team\": \"Chelsea\", \"xGA\": 1.7, \"xG\": 0.8, \"xGD\": -0.8999999999999999, \"xGD_sum_over_gameweek\": 0.9000000000000001, \"xGD cumulative sum\": 0.9000000000000001}, {\"gameweek\": 4.0, \"date\": \"2024-09-15\", \"team\": \"Tottenham\", \"xGA\": 0.7, \"xG\": 0.7, \"xGD\": 0.0, \"xGD_sum_over_gameweek\": 0.9999999999999998, \"xGD cumulative sum\": 0.9999999999999998}, {\"gameweek\": 4.0, \"date\": \"2024-09-15\", \"team\": \"Arsenal\", \"xGA\": 0.7, \"xG\": 0.7, \"xGD\": 0.0, \"xGD_sum_over_gameweek\": 0.8000000000000002, \"xGD cumulative sum\": 0.8000000000000002}, {\"gameweek\": 5.0, \"date\": \"2024-09-21\", \"team\": \"Chelsea\", \"xGA\": 0.9, \"xG\": 2.2, \"xGD\": 1.3000000000000005, \"xGD_sum_over_gameweek\": 2.2, \"xGD cumulative sum\": 2.2}, {\"gameweek\": 5.0, \"date\": \"2024-09-21\", \"team\": \"Tottenham\", \"xGA\": 0.8, \"xG\": 3.5, \"xGD\": 2.7, \"xGD_sum_over_gameweek\": 3.7, \"xGD cumulative sum\": 3.7}, {\"gameweek\": 5.0, \"date\": \"2024-09-21\", \"team\": \"Liverpool\", \"xGA\": 1.1, \"xG\": 2.0, \"xGD\": 0.8999999999999999, \"xGD_sum_over_gameweek\": 5.9, \"xGD cumulative sum\": 5.9}, {\"gameweek\": 5.0, \"date\": \"2024-09-22\", \"team\": \"Manchester City\", \"xGA\": 0.7, \"xG\": 2.1, \"xGD\": 1.4, \"xGD_sum_over_gameweek\": 7.6, \"xGD cumulative sum\": 7.6}, {\"gameweek\": 5.0, \"date\": \"2024-09-22\", \"team\": \"Arsenal\", \"xGA\": 2.1, \"xG\": 0.7, \"xGD\": -1.4, \"xGD_sum_over_gameweek\": -0.6, \"xGD cumulative sum\": -0.6}, {\"gameweek\": 6.0, \"date\": \"2024-09-28\", \"team\": \"Chelsea\", \"xGA\": 1.1, \"xG\": 4.2, \"xGD\": 3.1, \"xGD_sum_over_gameweek\": 5.300000000000001, \"xGD cumulative sum\": 5.300000000000001}, {\"gameweek\": 6.0, \"date\": \"2024-09-28\", \"team\": \"Arsenal\", \"xGA\": 0.3, \"xG\": 4.4, \"xGD\": 4.1000000000000005, \"xGD_sum_over_gameweek\": 3.5000000000000004, \"xGD cumulative sum\": 3.5000000000000004}, {\"gameweek\": 6.0, \"date\": \"2024-09-28\", \"team\": \"Manchester City\", \"xGA\": 1.6, \"xG\": 0.9, \"xGD\": -0.7000000000000001, \"xGD_sum_over_gameweek\": 6.9, \"xGD cumulative sum\": 6.9}, {\"gameweek\": 6.0, \"date\": \"2024-09-28\", \"team\": \"Liverpool\", \"xGA\": 0.6, \"xG\": 2.5, \"xGD\": 1.9, \"xGD_sum_over_gameweek\": 7.8, \"xGD cumulative sum\": 7.8}, {\"gameweek\": 6.0, \"date\": \"2024-09-29\", \"team\": \"Tottenham\", \"xGA\": 1.0, \"xG\": 4.4, \"xGD\": 3.4000000000000004, \"xGD_sum_over_gameweek\": 7.1000000000000005, \"xGD cumulative sum\": 7.1000000000000005}, {\"gameweek\": 7.0, \"date\": \"2024-10-05\", \"team\": \"Liverpool\", \"xGA\": 0.6, \"xG\": 1.4, \"xGD\": 0.7999999999999999, \"xGD_sum_over_gameweek\": 8.6, \"xGD cumulative sum\": 8.6}, {\"gameweek\": 7.0, \"date\": \"2024-10-05\", \"team\": \"Arsenal\", \"xGA\": 0.6, \"xG\": 2.8, \"xGD\": 2.2, \"xGD_sum_over_gameweek\": 5.7, \"xGD cumulative sum\": 5.7}, {\"gameweek\": 7.0, \"date\": \"2024-10-05\", \"team\": \"Manchester City\", \"xGA\": 2.6, \"xG\": 1.6, \"xGD\": -1.0, \"xGD_sum_over_gameweek\": 5.9, \"xGD cumulative sum\": 5.9}, {\"gameweek\": 7.0, \"date\": \"2024-10-06\", \"team\": \"Tottenham\", \"xGA\": 1.8, \"xG\": 1.3, \"xGD\": -0.5, \"xGD_sum_over_gameweek\": 6.6000000000000005, \"xGD cumulative sum\": 6.6000000000000005}, {\"gameweek\": 7.0, \"date\": \"2024-10-06\", \"team\": \"Chelsea\", \"xGA\": 0.9, \"xG\": 2.3, \"xGD\": 1.4, \"xGD_sum_over_gameweek\": 6.700000000000001, \"xGD cumulative sum\": 6.700000000000001}, {\"gameweek\": 8.0, \"date\": \"2024-10-19\", \"team\": \"Arsenal\", \"xGA\": 1.8, \"xG\": 0.7, \"xGD\": -1.1, \"xGD_sum_over_gameweek\": 4.6, \"xGD cumulative sum\": 4.6}, {\"gameweek\": 8.0, \"date\": \"2024-10-19\", \"team\": \"Tottenham\", \"xGA\": 0.8, \"xG\": 1.9, \"xGD\": 1.1, \"xGD_sum_over_gameweek\": 7.7, \"xGD cumulative sum\": 7.7}, {\"gameweek\": 8.0, \"date\": \"2024-10-20\", \"team\": \"Manchester City\", \"xGA\": 0.8, \"xG\": 1.6, \"xGD\": 0.8, \"xGD_sum_over_gameweek\": 6.7, \"xGD cumulative sum\": 6.7}, {\"gameweek\": 8.0, \"date\": \"2024-10-20\", \"team\": \"Chelsea\", \"xGA\": 1.9, \"xG\": 1.0, \"xGD\": -0.8999999999999999, \"xGD_sum_over_gameweek\": 5.800000000000001, \"xGD cumulative sum\": 5.800000000000001}, {\"gameweek\": 8.0, \"date\": \"2024-10-20\", \"team\": \"Liverpool\", \"xGA\": 1.0, \"xG\": 1.9, \"xGD\": 0.8999999999999999, \"xGD_sum_over_gameweek\": 9.5, \"xGD cumulative sum\": 9.5}, {\"gameweek\": 9.0, \"date\": \"2024-10-26\", \"team\": \"Manchester City\", \"xGA\": 0.2, \"xG\": 2.9, \"xGD\": 2.7, \"xGD_sum_over_gameweek\": 9.4, \"xGD cumulative sum\": 9.4}, {\"gameweek\": 9.0, \"date\": \"2024-10-27\", \"team\": \"Arsenal\", \"xGA\": 0.8, \"xG\": 0.9, \"xGD\": 0.0999999999999999, \"xGD_sum_over_gameweek\": 4.7, \"xGD cumulative sum\": 4.7}, {\"gameweek\": 9.0, \"date\": \"2024-10-27\", \"team\": \"Tottenham\", \"xGA\": 0.8, \"xG\": 0.7, \"xGD\": -0.1, \"xGD_sum_over_gameweek\": 7.6, \"xGD cumulative sum\": 7.6}, {\"gameweek\": 9.0, \"date\": \"2024-10-27\", \"team\": \"Chelsea\", \"xGA\": 1.8, \"xG\": 1.6, \"xGD\": -0.1999999999999999, \"xGD_sum_over_gameweek\": 5.6000000000000005, \"xGD cumulative sum\": 5.6000000000000005}, {\"gameweek\": 9.0, \"date\": \"2024-10-27\", \"team\": \"Liverpool\", \"xGA\": 0.9, \"xG\": 0.8, \"xGD\": -0.0999999999999999, \"xGD_sum_over_gameweek\": 9.4, \"xGD cumulative sum\": 9.4}, {\"gameweek\": 10.0, \"date\": \"2024-11-02\", \"team\": \"Arsenal\", \"xGA\": 0.5, \"xG\": 1.1, \"xGD\": 0.6000000000000001, \"xGD_sum_over_gameweek\": 5.3, \"xGD cumulative sum\": 5.3}, {\"gameweek\": 10.0, \"date\": \"2024-11-02\", \"team\": \"Manchester City\", \"xGA\": 2.0, \"xG\": 1.6, \"xGD\": -0.3999999999999999, \"xGD_sum_over_gameweek\": 9.0, \"xGD cumulative sum\": 9.0}, {\"gameweek\": 10.0, \"date\": \"2024-11-02\", \"team\": \"Liverpool\", \"xGA\": 1.0, \"xG\": 1.6, \"xGD\": 0.6000000000000001, \"xGD_sum_over_gameweek\": 10.0, \"xGD cumulative sum\": 10.0}, {\"gameweek\": 10.0, \"date\": \"2024-11-03\", \"team\": \"Chelsea\", \"xGA\": 2.0, \"xG\": 1.1, \"xGD\": -0.8999999999999999, \"xGD_sum_over_gameweek\": 4.700000000000001, \"xGD cumulative sum\": 4.700000000000001}, {\"gameweek\": 10.0, \"date\": \"2024-11-03\", \"team\": \"Tottenham\", \"xGA\": 1.8, \"xG\": 2.4, \"xGD\": 0.5999999999999999, \"xGD_sum_over_gameweek\": 8.2, \"xGD cumulative sum\": 8.2}, {\"gameweek\": 11.0, \"date\": \"2024-11-09\", \"team\": \"Liverpool\", \"xGA\": 1.2, \"xG\": 2.0, \"xGD\": 0.8, \"xGD_sum_over_gameweek\": 10.8, \"xGD cumulative sum\": 10.8}, {\"gameweek\": 11.0, \"date\": \"2024-11-09\", \"team\": \"Manchester City\", \"xGA\": 2.3, \"xG\": 2.1, \"xGD\": -0.1999999999999997, \"xGD_sum_over_gameweek\": 8.8, \"xGD cumulative sum\": 8.8}, {\"gameweek\": 11.0, \"date\": \"2024-11-10\", \"team\": \"Arsenal\", \"xGA\": 1.5, \"xG\": 1.5, \"xGD\": 0.0, \"xGD_sum_over_gameweek\": 5.3, \"xGD cumulative sum\": 5.3}, {\"gameweek\": 11.0, \"date\": \"2024-11-10\", \"team\": \"Tottenham\", \"xGA\": 1.6, \"xG\": 1.5, \"xGD\": -0.1, \"xGD_sum_over_gameweek\": 8.1, \"xGD cumulative sum\": 8.1}, {\"gameweek\": 11.0, \"date\": \"2024-11-10\", \"team\": \"Chelsea\", \"xGA\": 1.5, \"xG\": 1.5, \"xGD\": 0.0, \"xGD_sum_over_gameweek\": 4.700000000000001, \"xGD cumulative sum\": 4.700000000000001}, {\"gameweek\": 12.0, \"date\": \"2024-11-23\", \"team\": \"Arsenal\", \"xGA\": 0.3, \"xG\": 1.2, \"xGD\": 0.8999999999999999, \"xGD_sum_over_gameweek\": 6.2, \"xGD cumulative sum\": 6.2}, {\"gameweek\": 12.0, \"date\": \"2024-11-23\", \"team\": \"Manchester City\", \"xGA\": 2.5, \"xG\": 2.1, \"xGD\": -0.3999999999999999, \"xGD_sum_over_gameweek\": 8.4, \"xGD cumulative sum\": 8.4}, {\"gameweek\": 12.0, \"date\": \"2024-11-23\", \"team\": \"Tottenham\", \"xGA\": 2.1, \"xG\": 2.5, \"xGD\": 0.3999999999999999, \"xGD_sum_over_gameweek\": 8.5, \"xGD cumulative sum\": 8.5}, {\"gameweek\": 12.0, \"date\": \"2024-11-23\", \"team\": \"Chelsea\", \"xGA\": 1.1, \"xG\": 2.7, \"xGD\": 1.6, \"xGD_sum_over_gameweek\": 6.300000000000001, \"xGD cumulative sum\": 6.300000000000001}, {\"gameweek\": 12.0, \"date\": \"2024-11-24\", \"team\": \"Liverpool\", \"xGA\": 1.3, \"xG\": 3.1, \"xGD\": 1.8, \"xGD_sum_over_gameweek\": 12.6, \"xGD cumulative sum\": 12.6}], \"data-cf50858d50786f7e63b6ecfcfc2b3073\": [{\"gameweek\": 12.0, \"date\": \"2024-11-23\", \"team\": \"Arsenal\", \"xGA\": 0.3, \"xG\": 1.2, \"xGD\": 0.8999999999999999, \"xGD_sum_over_gameweek\": 6.2, \"xGD cumulative sum\": 6.2}, {\"gameweek\": 7.0, \"date\": \"2024-10-06\", \"team\": \"Chelsea\", \"xGA\": 0.9, \"xG\": 2.3, \"xGD\": 1.4, \"xGD_sum_over_gameweek\": 6.700000000000001, \"xGD cumulative sum\": 6.700000000000001}, {\"gameweek\": 12.0, \"date\": \"2024-11-24\", \"team\": \"Liverpool\", \"xGA\": 1.3, \"xG\": 3.1, \"xGD\": 1.8, \"xGD_sum_over_gameweek\": 12.6, \"xGD cumulative sum\": 12.6}, {\"gameweek\": 9.0, \"date\": \"2024-10-26\", \"team\": \"Manchester City\", \"xGA\": 0.2, \"xG\": 2.9, \"xGD\": 2.7, \"xGD_sum_over_gameweek\": 9.4, \"xGD cumulative sum\": 9.4}, {\"gameweek\": 12.0, \"date\": \"2024-11-23\", \"team\": \"Tottenham\", \"xGA\": 2.1, \"xG\": 2.5, \"xGD\": 0.3999999999999999, \"xGD_sum_over_gameweek\": 8.5, \"xGD cumulative sum\": 8.5}]}}, {\"mode\": \"vega-lite\"});\n",
       "</script>"
      ],
      "text/plain": [
       "alt.LayerChart(...)"
      ]
     },
     "execution_count": 203,
     "metadata": {},
     "output_type": "execute_result"
    }
   ],
   "source": [
    "last_points = top_5_xGD.groupby('team').apply(lambda top_5_xGD: top_5_xGD[top_5_xGD['xGD cumulative sum'] == top_5_xGD['xGD cumulative sum'].max()]).reset_index(drop=True)\n",
    "\n",
    "selection = alt.selection_point(fields=['team'], bind='legend')\n",
    "\n",
    "lines = alt.Chart(top_5_xGD).mark_line().encode(\n",
    "    x='gameweek', \n",
    "    y='xGD cumulative sum',\n",
    "    color=alt.Color('team').legend(orient=\"left\"), \n",
    "    opacity=alt.when(selection).then(alt.value(1)).otherwise(alt.value(0.2))\n",
    ").add_params(selection)\n",
    "\n",
    "text = alt.Chart(last_points).mark_text(align='left', dx=5).encode(\n",
    "                                                                    x='gameweek', \n",
    "                                                                    y='xGD cumulative sum',\n",
    "                                                                    text='team',\n",
    "                                                                    color='team')\n",
    "\n",
    "chart = lines+text\n",
    "\n",
    "chart\n",
    "\n"
   ]
  },
  {
   "cell_type": "markdown",
   "metadata": {},
   "source": [
    "Looking at this chart, it is clear that Liverpool have managed to separate themselves from the crowd in the last 3 gameweeks. Whether this trend continues remains to be seen, but as things stand my theory around xGD is holding true, as Liverpool are currently 8 points clear in the league table. The rest of the top 5 are teams that should feel that they are in the title race and can have a good chance if a few results go their way. The next iteration of this project will include the league table but for now I am focusing on xGD and will incrementally add features using the agile methodology. \n",
    "\n",
    "The next chart is going to look at the lower end of the xGD table."
   ]
  },
  {
   "cell_type": "code",
   "execution_count": 208,
   "metadata": {},
   "outputs": [
    {
     "data": {
      "text/html": [
       "\n",
       "<style>\n",
       "  #altair-viz-d0dcf8f8d98f44aeb02dd422cdf19068.vega-embed {\n",
       "    width: 100%;\n",
       "    display: flex;\n",
       "  }\n",
       "\n",
       "  #altair-viz-d0dcf8f8d98f44aeb02dd422cdf19068.vega-embed details,\n",
       "  #altair-viz-d0dcf8f8d98f44aeb02dd422cdf19068.vega-embed details summary {\n",
       "    position: relative;\n",
       "  }\n",
       "</style>\n",
       "<div id=\"altair-viz-d0dcf8f8d98f44aeb02dd422cdf19068\"></div>\n",
       "<script type=\"text/javascript\">\n",
       "  var VEGA_DEBUG = (typeof VEGA_DEBUG == \"undefined\") ? {} : VEGA_DEBUG;\n",
       "  (function(spec, embedOpt){\n",
       "    let outputDiv = document.currentScript.previousElementSibling;\n",
       "    if (outputDiv.id !== \"altair-viz-d0dcf8f8d98f44aeb02dd422cdf19068\") {\n",
       "      outputDiv = document.getElementById(\"altair-viz-d0dcf8f8d98f44aeb02dd422cdf19068\");\n",
       "    }\n",
       "\n",
       "    const paths = {\n",
       "      \"vega\": \"https://cdn.jsdelivr.net/npm/vega@5?noext\",\n",
       "      \"vega-lib\": \"https://cdn.jsdelivr.net/npm/vega-lib?noext\",\n",
       "      \"vega-lite\": \"https://cdn.jsdelivr.net/npm/vega-lite@5.20.1?noext\",\n",
       "      \"vega-embed\": \"https://cdn.jsdelivr.net/npm/vega-embed@6?noext\",\n",
       "    };\n",
       "\n",
       "    function maybeLoadScript(lib, version) {\n",
       "      var key = `${lib.replace(\"-\", \"\")}_version`;\n",
       "      return (VEGA_DEBUG[key] == version) ?\n",
       "        Promise.resolve(paths[lib]) :\n",
       "        new Promise(function(resolve, reject) {\n",
       "          var s = document.createElement('script');\n",
       "          document.getElementsByTagName(\"head\")[0].appendChild(s);\n",
       "          s.async = true;\n",
       "          s.onload = () => {\n",
       "            VEGA_DEBUG[key] = version;\n",
       "            return resolve(paths[lib]);\n",
       "          };\n",
       "          s.onerror = () => reject(`Error loading script: ${paths[lib]}`);\n",
       "          s.src = paths[lib];\n",
       "        });\n",
       "    }\n",
       "\n",
       "    function showError(err) {\n",
       "      outputDiv.innerHTML = `<div class=\"error\" style=\"color:red;\">${err}</div>`;\n",
       "      throw err;\n",
       "    }\n",
       "\n",
       "    function displayChart(vegaEmbed) {\n",
       "      vegaEmbed(outputDiv, spec, embedOpt)\n",
       "        .catch(err => showError(`Javascript Error: ${err.message}<br>This usually means there's a typo in your chart specification. See the javascript console for the full traceback.`));\n",
       "    }\n",
       "\n",
       "    if(typeof define === \"function\" && define.amd) {\n",
       "      requirejs.config({paths});\n",
       "      let deps = [\"vega-embed\"];\n",
       "      require(deps, displayChart, err => showError(`Error loading script: ${err.message}`));\n",
       "    } else {\n",
       "      maybeLoadScript(\"vega\", \"5\")\n",
       "        .then(() => maybeLoadScript(\"vega-lite\", \"5.20.1\"))\n",
       "        .then(() => maybeLoadScript(\"vega-embed\", \"6\"))\n",
       "        .catch(showError)\n",
       "        .then(() => displayChart(vegaEmbed));\n",
       "    }\n",
       "  })({\"config\": {\"view\": {\"continuousWidth\": 300, \"continuousHeight\": 300}}, \"layer\": [{\"data\": {\"name\": \"data-8a8d0a705770f1e43dccce8364af208e\"}, \"mark\": {\"type\": \"line\"}, \"encoding\": {\"color\": {\"field\": \"team\", \"legend\": {\"orient\": \"left\"}, \"type\": \"nominal\"}, \"opacity\": {\"condition\": [{\"param\": \"param_30\", \"value\": 1}], \"value\": 0.2}, \"x\": {\"field\": \"gameweek\", \"type\": \"quantitative\"}, \"y\": {\"field\": \"xGD cumulative sum\", \"type\": \"quantitative\"}}, \"name\": \"view_8\"}, {\"data\": {\"name\": \"data-05f735a96c867865e6301d3c6ea0ea40\"}, \"mark\": {\"type\": \"text\", \"align\": \"left\", \"dx\": 5}, \"encoding\": {\"color\": {\"field\": \"team\", \"type\": \"nominal\"}, \"text\": {\"field\": \"team\", \"type\": \"nominal\"}, \"x\": {\"field\": \"gameweek\", \"type\": \"quantitative\"}, \"y\": {\"field\": \"xGD cumulative sum\", \"type\": \"quantitative\"}}}], \"params\": [{\"name\": \"param_30\", \"select\": {\"type\": \"point\", \"fields\": [\"team\"]}, \"bind\": \"legend\", \"views\": [\"view_8\"]}], \"$schema\": \"https://vega.github.io/schema/vega-lite/v5.20.1.json\", \"datasets\": {\"data-8a8d0a705770f1e43dccce8364af208e\": [{\"gameweek\": 1.0, \"date\": \"2024-08-17\", \"team\": \"Ipswich Town\", \"xGA\": 2.6, \"xG\": 0.5, \"xGD\": -2.1, \"xGD_sum_over_gameweek\": -2.1, \"xGD cumulative sum\": -2.1}, {\"gameweek\": 1.0, \"date\": \"2024-08-17\", \"team\": \"Wolves\", \"xGA\": 1.2, \"xG\": 0.5, \"xGD\": -0.7, \"xGD_sum_over_gameweek\": -0.7, \"xGD cumulative sum\": -0.7}, {\"gameweek\": 1.0, \"date\": \"2024-08-17\", \"team\": \"Southampton\", \"xGA\": 0.3, \"xG\": 1.8, \"xGD\": 1.5, \"xGD_sum_over_gameweek\": 1.5, \"xGD cumulative sum\": 1.5}, {\"gameweek\": 1.0, \"date\": \"2024-08-18\", \"team\": \"Crystal Palace\", \"xGA\": 1.6, \"xG\": 1.2, \"xGD\": -0.4000000000000001, \"xGD_sum_over_gameweek\": -0.4000000000000001, \"xGD cumulative sum\": -0.4000000000000001}, {\"gameweek\": 1.0, \"date\": \"2024-08-19\", \"team\": \"Leicester City\", \"xGA\": 1.2, \"xG\": 1.0, \"xGD\": -0.1999999999999999, \"xGD_sum_over_gameweek\": -0.1999999999999999, \"xGD cumulative sum\": -0.1999999999999999}, {\"gameweek\": 2.0, \"date\": \"2024-08-24\", \"team\": \"Ipswich Town\", \"xGA\": 3.3, \"xG\": 0.3, \"xGD\": -3.0, \"xGD_sum_over_gameweek\": -5.1, \"xGD cumulative sum\": -5.1}, {\"gameweek\": 2.0, \"date\": \"2024-08-24\", \"team\": \"Leicester City\", \"xGA\": 1.8, \"xG\": 0.6, \"xGD\": -1.2000000000000002, \"xGD_sum_over_gameweek\": -1.4, \"xGD cumulative sum\": -1.4}, {\"gameweek\": 2.0, \"date\": \"2024-08-24\", \"team\": \"Crystal Palace\", \"xGA\": 1.4, \"xG\": 1.3, \"xGD\": -0.0999999999999998, \"xGD_sum_over_gameweek\": -0.5, \"xGD cumulative sum\": -0.5}, {\"gameweek\": 2.0, \"date\": \"2024-08-24\", \"team\": \"Southampton\", \"xGA\": 2.2, \"xG\": 0.1, \"xGD\": -2.1, \"xGD_sum_over_gameweek\": -0.6000000000000001, \"xGD cumulative sum\": -0.6000000000000001}, {\"gameweek\": 2.0, \"date\": \"2024-08-25\", \"team\": \"Wolves\", \"xGA\": 1.6, \"xG\": 1.9, \"xGD\": 0.2999999999999998, \"xGD_sum_over_gameweek\": -0.4000000000000001, \"xGD cumulative sum\": -0.4000000000000001}, {\"gameweek\": 3.0, \"date\": \"2024-08-31\", \"team\": \"Southampton\", \"xGA\": 2.8, \"xG\": 1.5, \"xGD\": -1.2999999999999998, \"xGD_sum_over_gameweek\": -1.9, \"xGD cumulative sum\": -1.9}, {\"gameweek\": 3.0, \"date\": \"2024-08-31\", \"team\": \"Wolves\", \"xGA\": 1.0, \"xG\": 0.7, \"xGD\": -0.3, \"xGD_sum_over_gameweek\": -0.7000000000000002, \"xGD cumulative sum\": -0.7000000000000002}, {\"gameweek\": 3.0, \"date\": \"2024-08-31\", \"team\": \"Ipswich Town\", \"xGA\": 0.9, \"xG\": 0.4, \"xGD\": -0.5, \"xGD_sum_over_gameweek\": -5.6, \"xGD cumulative sum\": -5.6}, {\"gameweek\": 3.0, \"date\": \"2024-08-31\", \"team\": \"Leicester City\", \"xGA\": 1.4, \"xG\": 0.4, \"xGD\": -1.0, \"xGD_sum_over_gameweek\": -2.4, \"xGD cumulative sum\": -2.4}, {\"gameweek\": 3.0, \"date\": \"2024-09-01\", \"team\": \"Crystal Palace\", \"xGA\": 2.4, \"xG\": 0.5, \"xGD\": -1.9, \"xGD_sum_over_gameweek\": -2.4, \"xGD cumulative sum\": -2.4}, {\"gameweek\": 4.0, \"date\": \"2024-09-14\", \"team\": \"Crystal Palace\", \"xGA\": 1.2, \"xG\": 2.5, \"xGD\": 1.3, \"xGD_sum_over_gameweek\": -1.1, \"xGD cumulative sum\": -1.1}, {\"gameweek\": 4.0, \"date\": \"2024-09-14\", \"team\": \"Leicester City\", \"xGA\": 2.5, \"xG\": 1.2, \"xGD\": -1.3, \"xGD_sum_over_gameweek\": -3.7, \"xGD cumulative sum\": -3.7}, {\"gameweek\": 4.0, \"date\": \"2024-09-14\", \"team\": \"Ipswich Town\", \"xGA\": 1.6, \"xG\": 0.3, \"xGD\": -1.3, \"xGD_sum_over_gameweek\": -6.9, \"xGD cumulative sum\": -6.9}, {\"gameweek\": 4.0, \"date\": \"2024-09-14\", \"team\": \"Southampton\", \"xGA\": 2.6, \"xG\": 1.1, \"xGD\": -1.5, \"xGD_sum_over_gameweek\": -3.4, \"xGD cumulative sum\": -3.4}, {\"gameweek\": 4.0, \"date\": \"2024-09-15\", \"team\": \"Wolves\", \"xGA\": 1.5, \"xG\": 1.2, \"xGD\": -0.3, \"xGD_sum_over_gameweek\": -1.0000000000000002, \"xGD cumulative sum\": -1.0000000000000002}, {\"gameweek\": 5.0, \"date\": \"2024-09-21\", \"team\": \"Ipswich Town\", \"xGA\": 2.4, \"xG\": 1.6, \"xGD\": -0.7999999999999998, \"xGD_sum_over_gameweek\": -7.7, \"xGD cumulative sum\": -7.7}, {\"gameweek\": 5.0, \"date\": \"2024-09-21\", \"team\": \"Wolves\", \"xGA\": 1.7, \"xG\": 0.5, \"xGD\": -1.2, \"xGD_sum_over_gameweek\": -2.2, \"xGD cumulative sum\": -2.2}, {\"gameweek\": 5.0, \"date\": \"2024-09-21\", \"team\": \"Crystal Palace\", \"xGA\": 1.6, \"xG\": 1.0, \"xGD\": -0.6000000000000001, \"xGD_sum_over_gameweek\": -1.7, \"xGD cumulative sum\": -1.7}, {\"gameweek\": 5.0, \"date\": \"2024-09-21\", \"team\": \"Southampton\", \"xGA\": 1.6, \"xG\": 2.4, \"xGD\": 0.7999999999999998, \"xGD_sum_over_gameweek\": -2.6, \"xGD cumulative sum\": -2.6}, {\"gameweek\": 5.0, \"date\": \"2024-09-21\", \"team\": \"Leicester City\", \"xGA\": 1.1, \"xG\": 0.7, \"xGD\": -0.4000000000000001, \"xGD_sum_over_gameweek\": -4.1000000000000005, \"xGD cumulative sum\": -4.1000000000000005}, {\"gameweek\": 6.0, \"date\": \"2024-09-28\", \"team\": \"Wolves\", \"xGA\": 2.5, \"xG\": 0.6, \"xGD\": -1.9, \"xGD_sum_over_gameweek\": -4.1, \"xGD cumulative sum\": -4.1}, {\"gameweek\": 6.0, \"date\": \"2024-09-28\", \"team\": \"Crystal Palace\", \"xGA\": 0.9, \"xG\": 0.9, \"xGD\": 0.0, \"xGD_sum_over_gameweek\": -1.7, \"xGD cumulative sum\": -1.7}, {\"gameweek\": 6.0, \"date\": \"2024-09-28\", \"team\": \"Leicester City\", \"xGA\": 4.4, \"xG\": 0.3, \"xGD\": -4.1000000000000005, \"xGD_sum_over_gameweek\": -8.200000000000001, \"xGD cumulative sum\": -8.200000000000001}, {\"gameweek\": 6.0, \"date\": \"2024-09-29\", \"team\": \"Ipswich Town\", \"xGA\": 0.8, \"xG\": 1.2, \"xGD\": 0.3999999999999999, \"xGD_sum_over_gameweek\": -7.3, \"xGD cumulative sum\": -7.3}, {\"gameweek\": 6.0, \"date\": \"2024-09-30\", \"team\": \"Southampton\", \"xGA\": 1.3, \"xG\": 0.6, \"xGD\": -0.7000000000000001, \"xGD_sum_over_gameweek\": -3.3000000000000003, \"xGD cumulative sum\": -3.3000000000000003}, {\"gameweek\": 7.0, \"date\": \"2024-10-05\", \"team\": \"Ipswich Town\", \"xGA\": 3.6, \"xG\": 0.6, \"xGD\": -3.0, \"xGD_sum_over_gameweek\": -10.3, \"xGD cumulative sum\": -10.3}, {\"gameweek\": 7.0, \"date\": \"2024-10-05\", \"team\": \"Wolves\", \"xGA\": 4.2, \"xG\": 1.0, \"xGD\": -3.2, \"xGD_sum_over_gameweek\": -7.300000000000001, \"xGD cumulative sum\": -7.300000000000001}, {\"gameweek\": 7.0, \"date\": \"2024-10-05\", \"team\": \"Crystal Palace\", \"xGA\": 1.4, \"xG\": 0.6, \"xGD\": -0.7999999999999999, \"xGD_sum_over_gameweek\": -2.5, \"xGD cumulative sum\": -2.5}, {\"gameweek\": 7.0, \"date\": \"2024-10-05\", \"team\": \"Leicester City\", \"xGA\": 2.1, \"xG\": 0.8, \"xGD\": -1.3, \"xGD_sum_over_gameweek\": -9.500000000000002, \"xGD cumulative sum\": -9.500000000000002}, {\"gameweek\": 7.0, \"date\": \"2024-10-05\", \"team\": \"Southampton\", \"xGA\": 2.8, \"xG\": 0.6, \"xGD\": -2.2, \"xGD_sum_over_gameweek\": -5.5, \"xGD cumulative sum\": -5.5}, {\"gameweek\": 8.0, \"date\": \"2024-10-19\", \"team\": \"Leicester City\", \"xGA\": 2.1, \"xG\": 3.1, \"xGD\": 1.0, \"xGD_sum_over_gameweek\": -8.500000000000002, \"xGD cumulative sum\": -8.500000000000002}, {\"gameweek\": 8.0, \"date\": \"2024-10-19\", \"team\": \"Ipswich Town\", \"xGA\": 1.7, \"xG\": 1.3, \"xGD\": -0.3999999999999999, \"xGD_sum_over_gameweek\": -10.7, \"xGD cumulative sum\": -10.7}, {\"gameweek\": 8.0, \"date\": \"2024-10-19\", \"team\": \"Southampton\", \"xGA\": 3.1, \"xG\": 2.1, \"xGD\": -1.0, \"xGD_sum_over_gameweek\": -6.5, \"xGD cumulative sum\": -6.5}, {\"gameweek\": 8.0, \"date\": \"2024-10-20\", \"team\": \"Wolves\", \"xGA\": 1.6, \"xG\": 0.8, \"xGD\": -0.8, \"xGD_sum_over_gameweek\": -8.1, \"xGD cumulative sum\": -8.1}, {\"gameweek\": 8.0, \"date\": \"2024-10-21\", \"team\": \"Crystal Palace\", \"xGA\": 1.7, \"xG\": 1.0, \"xGD\": -0.7, \"xGD_sum_over_gameweek\": -3.2, \"xGD cumulative sum\": -3.2}, {\"gameweek\": 9.0, \"date\": \"2024-10-25\", \"team\": \"Leicester City\", \"xGA\": 1.7, \"xG\": 0.8, \"xGD\": -0.8999999999999999, \"xGD_sum_over_gameweek\": -9.4, \"xGD cumulative sum\": -9.4}, {\"gameweek\": 9.0, \"date\": \"2024-10-26\", \"team\": \"Wolves\", \"xGA\": 1.3, \"xG\": 1.3, \"xGD\": 0.0, \"xGD_sum_over_gameweek\": -8.1, \"xGD cumulative sum\": -8.1}, {\"gameweek\": 9.0, \"date\": \"2024-10-26\", \"team\": \"Southampton\", \"xGA\": 2.9, \"xG\": 0.2, \"xGD\": -2.7, \"xGD_sum_over_gameweek\": -9.2, \"xGD cumulative sum\": -9.2}, {\"gameweek\": 9.0, \"date\": \"2024-10-26\", \"team\": \"Ipswich Town\", \"xGA\": 4.0, \"xG\": 1.3, \"xGD\": -2.7, \"xGD_sum_over_gameweek\": -13.4, \"xGD cumulative sum\": -13.4}, {\"gameweek\": 9.0, \"date\": \"2024-10-27\", \"team\": \"Crystal Palace\", \"xGA\": 0.7, \"xG\": 0.8, \"xGD\": 0.1, \"xGD_sum_over_gameweek\": -3.1, \"xGD cumulative sum\": -3.1}, {\"gameweek\": 10.0, \"date\": \"2024-11-02\", \"team\": \"Crystal Palace\", \"xGA\": 1.5, \"xG\": 2.4, \"xGD\": 0.8999999999999999, \"xGD_sum_over_gameweek\": -2.2, \"xGD cumulative sum\": -2.2}, {\"gameweek\": 10.0, \"date\": \"2024-11-02\", \"team\": \"Wolves\", \"xGA\": 2.4, \"xG\": 1.5, \"xGD\": -0.8999999999999999, \"xGD_sum_over_gameweek\": -9.0, \"xGD cumulative sum\": -9.0}, {\"gameweek\": 10.0, \"date\": \"2024-11-02\", \"team\": \"Ipswich Town\", \"xGA\": 1.5, \"xG\": 1.0, \"xGD\": -0.5, \"xGD_sum_over_gameweek\": -13.9, \"xGD cumulative sum\": -13.9}, {\"gameweek\": 10.0, \"date\": \"2024-11-02\", \"team\": \"Southampton\", \"xGA\": 1.6, \"xG\": 0.7, \"xGD\": -0.9000000000000001, \"xGD_sum_over_gameweek\": -10.1, \"xGD cumulative sum\": -10.1}, {\"gameweek\": 10.0, \"date\": \"2024-11-02\", \"team\": \"Leicester City\", \"xGA\": 1.0, \"xG\": 1.5, \"xGD\": 0.5, \"xGD_sum_over_gameweek\": -8.9, \"xGD cumulative sum\": -8.9}, {\"gameweek\": 11.0, \"date\": \"2024-11-09\", \"team\": \"Southampton\", \"xGA\": 1.3, \"xG\": 0.6, \"xGD\": -0.7000000000000001, \"xGD_sum_over_gameweek\": -10.8, \"xGD cumulative sum\": -10.8}, {\"gameweek\": 11.0, \"date\": \"2024-11-09\", \"team\": \"Wolves\", \"xGA\": 0.6, \"xG\": 1.3, \"xGD\": 0.7000000000000001, \"xGD_sum_over_gameweek\": -8.3, \"xGD cumulative sum\": -8.3}, {\"gameweek\": 11.0, \"date\": \"2024-11-09\", \"team\": \"Crystal Palace\", \"xGA\": 1.8, \"xG\": 1.5, \"xGD\": -0.3, \"xGD_sum_over_gameweek\": -2.5, \"xGD cumulative sum\": -2.5}, {\"gameweek\": 11.0, \"date\": \"2024-11-10\", \"team\": \"Ipswich Town\", \"xGA\": 1.5, \"xG\": 1.6, \"xGD\": 0.1, \"xGD_sum_over_gameweek\": -13.8, \"xGD cumulative sum\": -13.8}, {\"gameweek\": 11.0, \"date\": \"2024-11-10\", \"team\": \"Leicester City\", \"xGA\": 0.8, \"xG\": 0.6, \"xGD\": -0.2, \"xGD_sum_over_gameweek\": -9.1, \"xGD cumulative sum\": -9.1}, {\"gameweek\": 12.0, \"date\": \"2024-11-23\", \"team\": \"Wolves\", \"xGA\": 1.0, \"xG\": 1.3, \"xGD\": 0.3, \"xGD_sum_over_gameweek\": -8.0, \"xGD cumulative sum\": -8.0}, {\"gameweek\": 12.0, \"date\": \"2024-11-23\", \"team\": \"Crystal Palace\", \"xGA\": 3.0, \"xG\": 1.3, \"xGD\": -1.7, \"xGD_sum_over_gameweek\": -4.199999999999999, \"xGD cumulative sum\": -4.199999999999999}, {\"gameweek\": 12.0, \"date\": \"2024-11-23\", \"team\": \"Leicester City\", \"xGA\": 2.7, \"xG\": 1.1, \"xGD\": -1.6, \"xGD_sum_over_gameweek\": -10.7, \"xGD cumulative sum\": -10.7}, {\"gameweek\": 12.0, \"date\": \"2024-11-24\", \"team\": \"Southampton\", \"xGA\": 3.1, \"xG\": 1.3, \"xGD\": -1.8, \"xGD_sum_over_gameweek\": -12.6, \"xGD cumulative sum\": -12.6}, {\"gameweek\": 12.0, \"date\": \"2024-11-24\", \"team\": \"Ipswich Town\", \"xGA\": 0.9, \"xG\": 1.7, \"xGD\": 0.7999999999999999, \"xGD_sum_over_gameweek\": -13.0, \"xGD cumulative sum\": -13.0}], \"data-05f735a96c867865e6301d3c6ea0ea40\": [{\"gameweek\": 12.0, \"date\": \"2024-11-23\", \"team\": \"Crystal Palace\", \"xGA\": 3.0, \"xG\": 1.3, \"xGD\": -1.7, \"xGD_sum_over_gameweek\": -4.199999999999999, \"xGD cumulative sum\": -4.199999999999999}, {\"gameweek\": 10.0, \"date\": \"2024-11-02\", \"team\": \"Ipswich Town\", \"xGA\": 1.5, \"xG\": 1.0, \"xGD\": -0.5, \"xGD_sum_over_gameweek\": -13.9, \"xGD cumulative sum\": -13.9}, {\"gameweek\": 12.0, \"date\": \"2024-11-23\", \"team\": \"Leicester City\", \"xGA\": 2.7, \"xG\": 1.1, \"xGD\": -1.6, \"xGD_sum_over_gameweek\": -10.7, \"xGD cumulative sum\": -10.7}, {\"gameweek\": 12.0, \"date\": \"2024-11-24\", \"team\": \"Southampton\", \"xGA\": 3.1, \"xG\": 1.3, \"xGD\": -1.8, \"xGD_sum_over_gameweek\": -12.6, \"xGD cumulative sum\": -12.6}, {\"gameweek\": 10.0, \"date\": \"2024-11-02\", \"team\": \"Wolves\", \"xGA\": 2.4, \"xG\": 1.5, \"xGD\": -0.8999999999999999, \"xGD_sum_over_gameweek\": -9.0, \"xGD cumulative sum\": -9.0}]}}, {\"mode\": \"vega-lite\"});\n",
       "</script>"
      ],
      "text/plain": [
       "alt.LayerChart(...)"
      ]
     },
     "execution_count": 208,
     "metadata": {},
     "output_type": "execute_result"
    }
   ],
   "source": [
    "last_points = bottom_5_xGD.groupby('team').apply(lambda bottom_5_xGD: bottom_5_xGD[bottom_5_xGD['xGD cumulative sum'] == bottom_5_xGD['xGD cumulative sum'].min()]).reset_index(drop=True)\n",
    "\n",
    "selection = alt.selection_point(fields=['team'], bind='legend')\n",
    "\n",
    "lines = alt.Chart(bottom_5_xGD).mark_line().encode(\n",
    "    x='gameweek', \n",
    "    y='xGD cumulative sum',\n",
    "    color=alt.Color('team').legend(orient=\"left\"), \n",
    "    opacity=alt.when(selection).then(alt.value(1)).otherwise(alt.value(0.2))\n",
    ").add_params(selection)\n",
    "\n",
    "text = alt.Chart(last_points).mark_text(align='left', dx=5).encode(\n",
    "                                                                    x='gameweek', \n",
    "                                                                    y='xGD cumulative sum',\n",
    "                                                                    text='team',\n",
    "                                                                    color='team')\n",
    "\n",
    "chart = lines+text\n",
    "\n",
    "chart"
   ]
  },
  {
   "cell_type": "markdown",
   "metadata": {},
   "source": [
    "The bottom 4 teams in xGD are in a dogfight, while Palace are not looking as bad in comparison even though they are bottom 5. If this trend continues for these 5 teams, they are very likely to find themselves in the relegation battle in the latter stages of the season."
   ]
  },
  {
   "cell_type": "markdown",
   "metadata": {},
   "source": []
  }
 ],
 "metadata": {
  "kernelspec": {
   "display_name": "Python 3",
   "language": "python",
   "name": "python3"
  },
  "language_info": {
   "codemirror_mode": {
    "name": "ipython",
    "version": 3
   },
   "file_extension": ".py",
   "mimetype": "text/x-python",
   "name": "python",
   "nbconvert_exporter": "python",
   "pygments_lexer": "ipython3",
   "version": "3.11.5"
  }
 },
 "nbformat": 4,
 "nbformat_minor": 2
}
